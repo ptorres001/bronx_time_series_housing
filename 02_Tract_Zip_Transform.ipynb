{
 "cells": [
  {
   "cell_type": "markdown",
   "metadata": {},
   "source": [
    "# Tract to Zip Transformation"
   ]
  },
  {
   "cell_type": "markdown",
   "metadata": {},
   "source": [
    "### Trying to convert the census tract to zip code data"
   ]
  },
  {
   "cell_type": "code",
   "execution_count": 38,
   "metadata": {},
   "outputs": [],
   "source": [
    "import pandas as pd\n",
    "import numpy as np\n",
    "tract_z = pd.read_excel('ZIP_TRACT_032010.xlsx')"
   ]
  },
  {
   "cell_type": "code",
   "execution_count": 12,
   "metadata": {},
   "outputs": [],
   "source": [
    "clus = pd.read_csv('cluster_pca2_copy.csv')"
   ]
  },
  {
   "cell_type": "code",
   "execution_count": 14,
   "metadata": {},
   "outputs": [],
   "source": [
    "bx = pd.read_pickle('bx2_gpd.pkl')"
   ]
  },
  {
   "cell_type": "code",
   "execution_count": 13,
   "metadata": {},
   "outputs": [
    {
     "data": {
      "text/html": [
       "<div>\n",
       "<style scoped>\n",
       "    .dataframe tbody tr th:only-of-type {\n",
       "        vertical-align: middle;\n",
       "    }\n",
       "\n",
       "    .dataframe tbody tr th {\n",
       "        vertical-align: top;\n",
       "    }\n",
       "\n",
       "    .dataframe thead th {\n",
       "        text-align: right;\n",
       "    }\n",
       "</style>\n",
       "<table border=\"1\" class=\"dataframe\">\n",
       "  <thead>\n",
       "    <tr style=\"text-align: right;\">\n",
       "      <th></th>\n",
       "      <th>Unnamed: 0</th>\n",
       "      <th>TRACTID</th>\n",
       "      <th>cluster</th>\n",
       "    </tr>\n",
       "  </thead>\n",
       "  <tbody>\n",
       "    <tr>\n",
       "      <th>0</th>\n",
       "      <td>0</td>\n",
       "      <td>36005000200</td>\n",
       "      <td>Stable</td>\n",
       "    </tr>\n",
       "    <tr>\n",
       "      <th>1</th>\n",
       "      <td>1</td>\n",
       "      <td>36005000400</td>\n",
       "      <td>Gentrifying</td>\n",
       "    </tr>\n",
       "    <tr>\n",
       "      <th>2</th>\n",
       "      <td>2</td>\n",
       "      <td>36005001600</td>\n",
       "      <td>Stable</td>\n",
       "    </tr>\n",
       "    <tr>\n",
       "      <th>3</th>\n",
       "      <td>3</td>\n",
       "      <td>36005001900</td>\n",
       "      <td>Gentrifying</td>\n",
       "    </tr>\n",
       "    <tr>\n",
       "      <th>4</th>\n",
       "      <td>4</td>\n",
       "      <td>36005002000</td>\n",
       "      <td>Gentrifying</td>\n",
       "    </tr>\n",
       "  </tbody>\n",
       "</table>\n",
       "</div>"
      ],
      "text/plain": [
       "   Unnamed: 0      TRACTID      cluster\n",
       "0           0  36005000200       Stable\n",
       "1           1  36005000400  Gentrifying\n",
       "2           2  36005001600       Stable\n",
       "3           3  36005001900  Gentrifying\n",
       "4           4  36005002000  Gentrifying"
      ]
     },
     "execution_count": 13,
     "metadata": {},
     "output_type": "execute_result"
    }
   ],
   "source": [
    "clus.head()"
   ]
  },
  {
   "cell_type": "code",
   "execution_count": 15,
   "metadata": {},
   "outputs": [
    {
     "data": {
      "text/html": [
       "<div>\n",
       "<style scoped>\n",
       "    .dataframe tbody tr th:only-of-type {\n",
       "        vertical-align: middle;\n",
       "    }\n",
       "\n",
       "    .dataframe tbody tr th {\n",
       "        vertical-align: top;\n",
       "    }\n",
       "\n",
       "    .dataframe thead th {\n",
       "        text-align: right;\n",
       "    }\n",
       "</style>\n",
       "<table border=\"1\" class=\"dataframe\">\n",
       "  <thead>\n",
       "    <tr style=\"text-align: right;\">\n",
       "      <th></th>\n",
       "      <th>TRACTID</th>\n",
       "      <th>state</th>\n",
       "      <th>POP10_POP00_%</th>\n",
       "      <th>NHWHT10%_NHWHT00%</th>\n",
       "      <th>NHBLK10%_NHBLK00%</th>\n",
       "      <th>NTV10%_NTV00%</th>\n",
       "      <th>ASIAN10%_ASIAN00%</th>\n",
       "      <th>HISP10%_HISP00%</th>\n",
       "      <th>HAW10%_HAW00%</th>\n",
       "      <th>INDIA10%_INDIA00%</th>\n",
       "      <th>...</th>\n",
       "      <th>OLANG12%_OLANG00%</th>\n",
       "      <th>PROF12%_PROF00%</th>\n",
       "      <th>RUANC12%_RUANC00%</th>\n",
       "      <th>RUFB12%_RUFB00%</th>\n",
       "      <th>SCANC12%_SCANC00%</th>\n",
       "      <th>SCFB12%_SCFB00%</th>\n",
       "      <th>SEMP12%_SEMP00%</th>\n",
       "      <th>UNEMP12%_UNEMP00%</th>\n",
       "      <th>VET12%_VET00%</th>\n",
       "      <th>WDS12%_WDS00%</th>\n",
       "    </tr>\n",
       "  </thead>\n",
       "  <tbody>\n",
       "    <tr>\n",
       "      <th>0</th>\n",
       "      <td>36005000100</td>\n",
       "      <td>NY</td>\n",
       "      <td>NaN</td>\n",
       "      <td>NaN</td>\n",
       "      <td>NaN</td>\n",
       "      <td>NaN</td>\n",
       "      <td>NaN</td>\n",
       "      <td>NaN</td>\n",
       "      <td>NaN</td>\n",
       "      <td>NaN</td>\n",
       "      <td>...</td>\n",
       "      <td>NaN</td>\n",
       "      <td>NaN</td>\n",
       "      <td>NaN</td>\n",
       "      <td>NaN</td>\n",
       "      <td>NaN</td>\n",
       "      <td>NaN</td>\n",
       "      <td>NaN</td>\n",
       "      <td>NaN</td>\n",
       "      <td>NaN</td>\n",
       "      <td>NaN</td>\n",
       "    </tr>\n",
       "    <tr>\n",
       "      <th>1</th>\n",
       "      <td>36005000200</td>\n",
       "      <td>NY</td>\n",
       "      <td>22.256700</td>\n",
       "      <td>-49.122660</td>\n",
       "      <td>2.573296</td>\n",
       "      <td>22.692663</td>\n",
       "      <td>348.237194</td>\n",
       "      <td>-0.644172</td>\n",
       "      <td>0.0</td>\n",
       "      <td>203.810403</td>\n",
       "      <td>...</td>\n",
       "      <td>-6.325945</td>\n",
       "      <td>15.352474</td>\n",
       "      <td>0.0</td>\n",
       "      <td>0.0</td>\n",
       "      <td>0.0</td>\n",
       "      <td>0.0</td>\n",
       "      <td>-27.864742</td>\n",
       "      <td>56.251886</td>\n",
       "      <td>-30.017942</td>\n",
       "      <td>10.642324</td>\n",
       "    </tr>\n",
       "    <tr>\n",
       "      <th>2</th>\n",
       "      <td>36005000400</td>\n",
       "      <td>NY</td>\n",
       "      <td>66.053108</td>\n",
       "      <td>-34.586777</td>\n",
       "      <td>11.385660</td>\n",
       "      <td>-6.321804</td>\n",
       "      <td>-10.730190</td>\n",
       "      <td>0.280476</td>\n",
       "      <td>0.0</td>\n",
       "      <td>15.129715</td>\n",
       "      <td>...</td>\n",
       "      <td>-1.180914</td>\n",
       "      <td>89.523403</td>\n",
       "      <td>0.0</td>\n",
       "      <td>0.0</td>\n",
       "      <td>0.0</td>\n",
       "      <td>0.0</td>\n",
       "      <td>132.151767</td>\n",
       "      <td>-18.746882</td>\n",
       "      <td>-37.978389</td>\n",
       "      <td>-1.541920</td>\n",
       "    </tr>\n",
       "    <tr>\n",
       "      <th>3</th>\n",
       "      <td>36005001600</td>\n",
       "      <td>NY</td>\n",
       "      <td>7.752530</td>\n",
       "      <td>-27.611909</td>\n",
       "      <td>5.883646</td>\n",
       "      <td>-10.906964</td>\n",
       "      <td>-3.880282</td>\n",
       "      <td>-0.569888</td>\n",
       "      <td>0.0</td>\n",
       "      <td>22.742421</td>\n",
       "      <td>...</td>\n",
       "      <td>-5.462912</td>\n",
       "      <td>9.436878</td>\n",
       "      <td>-100.0</td>\n",
       "      <td>0.0</td>\n",
       "      <td>-100.0</td>\n",
       "      <td>0.0</td>\n",
       "      <td>95.033353</td>\n",
       "      <td>-72.389364</td>\n",
       "      <td>-47.443458</td>\n",
       "      <td>-4.264159</td>\n",
       "    </tr>\n",
       "    <tr>\n",
       "      <th>4</th>\n",
       "      <td>36005001900</td>\n",
       "      <td>NY</td>\n",
       "      <td>21.022727</td>\n",
       "      <td>69.798277</td>\n",
       "      <td>-11.932458</td>\n",
       "      <td>-8.189880</td>\n",
       "      <td>48.732394</td>\n",
       "      <td>-0.711123</td>\n",
       "      <td>0.0</td>\n",
       "      <td>-64.587525</td>\n",
       "      <td>...</td>\n",
       "      <td>-2.872925</td>\n",
       "      <td>136.552423</td>\n",
       "      <td>0.0</td>\n",
       "      <td>0.0</td>\n",
       "      <td>0.0</td>\n",
       "      <td>0.0</td>\n",
       "      <td>139.456688</td>\n",
       "      <td>-61.000967</td>\n",
       "      <td>-14.107097</td>\n",
       "      <td>5.472709</td>\n",
       "    </tr>\n",
       "  </tbody>\n",
       "</table>\n",
       "<p>5 rows × 109 columns</p>\n",
       "</div>"
      ],
      "text/plain": [
       "       TRACTID state  POP10_POP00_%  NHWHT10%_NHWHT00%  NHBLK10%_NHBLK00%  \\\n",
       "0  36005000100    NY            NaN                NaN                NaN   \n",
       "1  36005000200    NY      22.256700         -49.122660           2.573296   \n",
       "2  36005000400    NY      66.053108         -34.586777          11.385660   \n",
       "3  36005001600    NY       7.752530         -27.611909           5.883646   \n",
       "4  36005001900    NY      21.022727          69.798277         -11.932458   \n",
       "\n",
       "   NTV10%_NTV00%  ASIAN10%_ASIAN00%  HISP10%_HISP00%  HAW10%_HAW00%  \\\n",
       "0            NaN                NaN              NaN            NaN   \n",
       "1      22.692663         348.237194        -0.644172            0.0   \n",
       "2      -6.321804         -10.730190         0.280476            0.0   \n",
       "3     -10.906964          -3.880282        -0.569888            0.0   \n",
       "4      -8.189880          48.732394        -0.711123            0.0   \n",
       "\n",
       "   INDIA10%_INDIA00%  ...  OLANG12%_OLANG00%  PROF12%_PROF00%  \\\n",
       "0                NaN  ...                NaN              NaN   \n",
       "1         203.810403  ...          -6.325945        15.352474   \n",
       "2          15.129715  ...          -1.180914        89.523403   \n",
       "3          22.742421  ...          -5.462912         9.436878   \n",
       "4         -64.587525  ...          -2.872925       136.552423   \n",
       "\n",
       "   RUANC12%_RUANC00%  RUFB12%_RUFB00%  SCANC12%_SCANC00%  SCFB12%_SCFB00%  \\\n",
       "0                NaN              NaN                NaN              NaN   \n",
       "1                0.0              0.0                0.0              0.0   \n",
       "2                0.0              0.0                0.0              0.0   \n",
       "3             -100.0              0.0             -100.0              0.0   \n",
       "4                0.0              0.0                0.0              0.0   \n",
       "\n",
       "   SEMP12%_SEMP00%  UNEMP12%_UNEMP00%  VET12%_VET00%  WDS12%_WDS00%  \n",
       "0              NaN                NaN            NaN            NaN  \n",
       "1       -27.864742          56.251886     -30.017942      10.642324  \n",
       "2       132.151767         -18.746882     -37.978389      -1.541920  \n",
       "3        95.033353         -72.389364     -47.443458      -4.264159  \n",
       "4       139.456688         -61.000967     -14.107097       5.472709  \n",
       "\n",
       "[5 rows x 109 columns]"
      ]
     },
     "execution_count": 15,
     "metadata": {},
     "output_type": "execute_result"
    }
   ],
   "source": [
    "bx.head()"
   ]
  },
  {
   "cell_type": "code",
   "execution_count": 39,
   "metadata": {},
   "outputs": [
    {
     "data": {
      "text/html": [
       "<div>\n",
       "<style scoped>\n",
       "    .dataframe tbody tr th:only-of-type {\n",
       "        vertical-align: middle;\n",
       "    }\n",
       "\n",
       "    .dataframe tbody tr th {\n",
       "        vertical-align: top;\n",
       "    }\n",
       "\n",
       "    .dataframe thead th {\n",
       "        text-align: right;\n",
       "    }\n",
       "</style>\n",
       "<table border=\"1\" class=\"dataframe\">\n",
       "  <thead>\n",
       "    <tr style=\"text-align: right;\">\n",
       "      <th></th>\n",
       "      <th>ZIP</th>\n",
       "      <th>TRACT</th>\n",
       "      <th>RES_RATIO</th>\n",
       "      <th>BUS_RATIO</th>\n",
       "      <th>OTH_RATIO</th>\n",
       "      <th>TOT_RATIO</th>\n",
       "    </tr>\n",
       "  </thead>\n",
       "  <tbody>\n",
       "    <tr>\n",
       "      <th>0</th>\n",
       "      <td>501</td>\n",
       "      <td>36103158607</td>\n",
       "      <td>0.000000</td>\n",
       "      <td>1.000000</td>\n",
       "      <td>0.000000</td>\n",
       "      <td>1.000000</td>\n",
       "    </tr>\n",
       "    <tr>\n",
       "      <th>1</th>\n",
       "      <td>544</td>\n",
       "      <td>36103158607</td>\n",
       "      <td>0.000000</td>\n",
       "      <td>1.000000</td>\n",
       "      <td>0.000000</td>\n",
       "      <td>1.000000</td>\n",
       "    </tr>\n",
       "    <tr>\n",
       "      <th>2</th>\n",
       "      <td>601</td>\n",
       "      <td>72001956300</td>\n",
       "      <td>0.004316</td>\n",
       "      <td>0.005063</td>\n",
       "      <td>0.000000</td>\n",
       "      <td>0.004310</td>\n",
       "    </tr>\n",
       "    <tr>\n",
       "      <th>3</th>\n",
       "      <td>601</td>\n",
       "      <td>72001956600</td>\n",
       "      <td>0.728760</td>\n",
       "      <td>0.448101</td>\n",
       "      <td>0.546667</td>\n",
       "      <td>0.703202</td>\n",
       "    </tr>\n",
       "    <tr>\n",
       "      <th>4</th>\n",
       "      <td>601</td>\n",
       "      <td>72001956700</td>\n",
       "      <td>0.266924</td>\n",
       "      <td>0.546835</td>\n",
       "      <td>0.453333</td>\n",
       "      <td>0.292488</td>\n",
       "    </tr>\n",
       "  </tbody>\n",
       "</table>\n",
       "</div>"
      ],
      "text/plain": [
       "   ZIP        TRACT  RES_RATIO  BUS_RATIO  OTH_RATIO  TOT_RATIO\n",
       "0  501  36103158607   0.000000   1.000000   0.000000   1.000000\n",
       "1  544  36103158607   0.000000   1.000000   0.000000   1.000000\n",
       "2  601  72001956300   0.004316   0.005063   0.000000   0.004310\n",
       "3  601  72001956600   0.728760   0.448101   0.546667   0.703202\n",
       "4  601  72001956700   0.266924   0.546835   0.453333   0.292488"
      ]
     },
     "execution_count": 39,
     "metadata": {},
     "output_type": "execute_result"
    }
   ],
   "source": [
    "tract_z.head()"
   ]
  },
  {
   "cell_type": "code",
   "execution_count": 43,
   "metadata": {},
   "outputs": [],
   "source": [
    "tract_count = tract_z.groupby('TRACT')['ZIP'].value_counts()"
   ]
  },
  {
   "cell_type": "code",
   "execution_count": 45,
   "metadata": {},
   "outputs": [
    {
     "data": {
      "text/plain": [
       "TRACT       ZIP  \n",
       "1001020100  36067    1\n",
       "1001020200  36008    1\n",
       "            36067    1\n",
       "1001020300  36067    1\n",
       "1001020400  36066    1\n",
       "            36067    1\n",
       "1001020500  36066    1\n",
       "            36067    1\n",
       "1001020600  36067    1\n",
       "1001020700  36067    1\n",
       "Name: ZIP, dtype: int64"
      ]
     },
     "execution_count": 45,
     "metadata": {},
     "output_type": "execute_result"
    }
   ],
   "source": [
    "tract_count.head(10)"
   ]
  },
  {
   "cell_type": "code",
   "execution_count": 46,
   "metadata": {},
   "outputs": [],
   "source": [
    "zip_count = tract_z.groupby('ZIP')['TRACT'].value_counts()"
   ]
  },
  {
   "cell_type": "code",
   "execution_count": 47,
   "metadata": {},
   "outputs": [
    {
     "data": {
      "text/plain": [
       "ZIP  TRACT      \n",
       "501  36103158607    1\n",
       "544  36103158607    1\n",
       "601  72001956300    1\n",
       "     72001956600    1\n",
       "     72001956700    1\n",
       "602  72003430200    1\n",
       "     72003430300    1\n",
       "603  72005400300    1\n",
       "     72005400400    1\n",
       "     72005400500    1\n",
       "Name: TRACT, dtype: int64"
      ]
     },
     "execution_count": 47,
     "metadata": {},
     "output_type": "execute_result"
    }
   ],
   "source": [
    "zip_count.head(10)"
   ]
  },
  {
   "cell_type": "code",
   "execution_count": 17,
   "metadata": {},
   "outputs": [],
   "source": [
    "bx = bx[['TRACTID','state']]\n",
    "clus = clus[['TRACTID','cluster']]\n",
    "tract_z = tract_z[['ZIP','TRACT','RES_RATIO']]"
   ]
  },
  {
   "cell_type": "code",
   "execution_count": 18,
   "metadata": {},
   "outputs": [
    {
     "data": {
      "text/html": [
       "<div>\n",
       "<style scoped>\n",
       "    .dataframe tbody tr th:only-of-type {\n",
       "        vertical-align: middle;\n",
       "    }\n",
       "\n",
       "    .dataframe tbody tr th {\n",
       "        vertical-align: top;\n",
       "    }\n",
       "\n",
       "    .dataframe thead th {\n",
       "        text-align: right;\n",
       "    }\n",
       "</style>\n",
       "<table border=\"1\" class=\"dataframe\">\n",
       "  <thead>\n",
       "    <tr style=\"text-align: right;\">\n",
       "      <th></th>\n",
       "      <th>TRACTID</th>\n",
       "      <th>state</th>\n",
       "    </tr>\n",
       "  </thead>\n",
       "  <tbody>\n",
       "    <tr>\n",
       "      <th>0</th>\n",
       "      <td>36005000100</td>\n",
       "      <td>NY</td>\n",
       "    </tr>\n",
       "    <tr>\n",
       "      <th>1</th>\n",
       "      <td>36005000200</td>\n",
       "      <td>NY</td>\n",
       "    </tr>\n",
       "    <tr>\n",
       "      <th>2</th>\n",
       "      <td>36005000400</td>\n",
       "      <td>NY</td>\n",
       "    </tr>\n",
       "    <tr>\n",
       "      <th>3</th>\n",
       "      <td>36005001600</td>\n",
       "      <td>NY</td>\n",
       "    </tr>\n",
       "    <tr>\n",
       "      <th>4</th>\n",
       "      <td>36005001900</td>\n",
       "      <td>NY</td>\n",
       "    </tr>\n",
       "  </tbody>\n",
       "</table>\n",
       "</div>"
      ],
      "text/plain": [
       "       TRACTID state\n",
       "0  36005000100    NY\n",
       "1  36005000200    NY\n",
       "2  36005000400    NY\n",
       "3  36005001600    NY\n",
       "4  36005001900    NY"
      ]
     },
     "execution_count": 18,
     "metadata": {},
     "output_type": "execute_result"
    }
   ],
   "source": [
    "bx.head()"
   ]
  },
  {
   "cell_type": "code",
   "execution_count": 19,
   "metadata": {},
   "outputs": [
    {
     "data": {
      "text/html": [
       "<div>\n",
       "<style scoped>\n",
       "    .dataframe tbody tr th:only-of-type {\n",
       "        vertical-align: middle;\n",
       "    }\n",
       "\n",
       "    .dataframe tbody tr th {\n",
       "        vertical-align: top;\n",
       "    }\n",
       "\n",
       "    .dataframe thead th {\n",
       "        text-align: right;\n",
       "    }\n",
       "</style>\n",
       "<table border=\"1\" class=\"dataframe\">\n",
       "  <thead>\n",
       "    <tr style=\"text-align: right;\">\n",
       "      <th></th>\n",
       "      <th>TRACTID</th>\n",
       "      <th>cluster</th>\n",
       "    </tr>\n",
       "  </thead>\n",
       "  <tbody>\n",
       "    <tr>\n",
       "      <th>0</th>\n",
       "      <td>36005000200</td>\n",
       "      <td>Stable</td>\n",
       "    </tr>\n",
       "    <tr>\n",
       "      <th>1</th>\n",
       "      <td>36005000400</td>\n",
       "      <td>Gentrifying</td>\n",
       "    </tr>\n",
       "    <tr>\n",
       "      <th>2</th>\n",
       "      <td>36005001600</td>\n",
       "      <td>Stable</td>\n",
       "    </tr>\n",
       "    <tr>\n",
       "      <th>3</th>\n",
       "      <td>36005001900</td>\n",
       "      <td>Gentrifying</td>\n",
       "    </tr>\n",
       "    <tr>\n",
       "      <th>4</th>\n",
       "      <td>36005002000</td>\n",
       "      <td>Gentrifying</td>\n",
       "    </tr>\n",
       "  </tbody>\n",
       "</table>\n",
       "</div>"
      ],
      "text/plain": [
       "       TRACTID      cluster\n",
       "0  36005000200       Stable\n",
       "1  36005000400  Gentrifying\n",
       "2  36005001600       Stable\n",
       "3  36005001900  Gentrifying\n",
       "4  36005002000  Gentrifying"
      ]
     },
     "execution_count": 19,
     "metadata": {},
     "output_type": "execute_result"
    }
   ],
   "source": [
    "clus.head()"
   ]
  },
  {
   "cell_type": "code",
   "execution_count": 31,
   "metadata": {},
   "outputs": [
    {
     "data": {
      "text/html": [
       "<div>\n",
       "<style scoped>\n",
       "    .dataframe tbody tr th:only-of-type {\n",
       "        vertical-align: middle;\n",
       "    }\n",
       "\n",
       "    .dataframe tbody tr th {\n",
       "        vertical-align: top;\n",
       "    }\n",
       "\n",
       "    .dataframe thead th {\n",
       "        text-align: right;\n",
       "    }\n",
       "</style>\n",
       "<table border=\"1\" class=\"dataframe\">\n",
       "  <thead>\n",
       "    <tr style=\"text-align: right;\">\n",
       "      <th></th>\n",
       "      <th>ZIP</th>\n",
       "      <th>TRACTID</th>\n",
       "      <th>RES_RATIO</th>\n",
       "    </tr>\n",
       "  </thead>\n",
       "  <tbody>\n",
       "    <tr>\n",
       "      <th>0</th>\n",
       "      <td>501</td>\n",
       "      <td>36103158607</td>\n",
       "      <td>0.000000</td>\n",
       "    </tr>\n",
       "    <tr>\n",
       "      <th>1</th>\n",
       "      <td>544</td>\n",
       "      <td>36103158607</td>\n",
       "      <td>0.000000</td>\n",
       "    </tr>\n",
       "    <tr>\n",
       "      <th>2</th>\n",
       "      <td>601</td>\n",
       "      <td>72001956300</td>\n",
       "      <td>0.004316</td>\n",
       "    </tr>\n",
       "    <tr>\n",
       "      <th>3</th>\n",
       "      <td>601</td>\n",
       "      <td>72001956600</td>\n",
       "      <td>0.728760</td>\n",
       "    </tr>\n",
       "    <tr>\n",
       "      <th>4</th>\n",
       "      <td>601</td>\n",
       "      <td>72001956700</td>\n",
       "      <td>0.266924</td>\n",
       "    </tr>\n",
       "  </tbody>\n",
       "</table>\n",
       "</div>"
      ],
      "text/plain": [
       "   ZIP      TRACTID  RES_RATIO\n",
       "0  501  36103158607   0.000000\n",
       "1  544  36103158607   0.000000\n",
       "2  601  72001956300   0.004316\n",
       "3  601  72001956600   0.728760\n",
       "4  601  72001956700   0.266924"
      ]
     },
     "execution_count": 31,
     "metadata": {},
     "output_type": "execute_result"
    }
   ],
   "source": [
    "tract_z.head()"
   ]
  },
  {
   "cell_type": "code",
   "execution_count": 30,
   "metadata": {},
   "outputs": [
    {
     "ename": "AttributeError",
     "evalue": "'NoneType' object has no attribute 'copy'",
     "output_type": "error",
     "traceback": [
      "\u001b[0;31m---------------------------------------------------------------------------\u001b[0m",
      "\u001b[0;31mAttributeError\u001b[0m                            Traceback (most recent call last)",
      "\u001b[0;32m<ipython-input-30-e196b728f758>\u001b[0m in \u001b[0;36m<module>\u001b[0;34m\u001b[0m\n\u001b[0;32m----> 1\u001b[0;31m \u001b[0mtract_z\u001b[0m\u001b[0;34m.\u001b[0m\u001b[0mrename\u001b[0m\u001b[0;34m(\u001b[0m\u001b[0mcolumns\u001b[0m\u001b[0;34m=\u001b[0m\u001b[0;34m{\u001b[0m\u001b[0;34m'TRACT'\u001b[0m\u001b[0;34m:\u001b[0m\u001b[0;34m'TRACTID'\u001b[0m\u001b[0;34m}\u001b[0m\u001b[0;34m,\u001b[0m\u001b[0minplace\u001b[0m\u001b[0;34m=\u001b[0m\u001b[0;32mTrue\u001b[0m\u001b[0;34m)\u001b[0m\u001b[0;34m.\u001b[0m\u001b[0mcopy\u001b[0m\u001b[0;34m(\u001b[0m\u001b[0;34m)\u001b[0m\u001b[0;34m\u001b[0m\u001b[0;34m\u001b[0m\u001b[0m\n\u001b[0m",
      "\u001b[0;31mAttributeError\u001b[0m: 'NoneType' object has no attribute 'copy'"
     ]
    }
   ],
   "source": [
    "tract_z.rename(columns={'TRACT':'TRACTID'},inplace=True)"
   ]
  },
  {
   "cell_type": "code",
   "execution_count": 32,
   "metadata": {},
   "outputs": [
    {
     "name": "stderr",
     "output_type": "stream",
     "text": [
      "<ipython-input-32-072ea32e9dbc>:1: SettingWithCopyWarning: \n",
      "A value is trying to be set on a copy of a slice from a DataFrame.\n",
      "Try using .loc[row_indexer,col_indexer] = value instead\n",
      "\n",
      "See the caveats in the documentation: https://pandas.pydata.org/pandas-docs/stable/user_guide/indexing.html#returning-a-view-versus-a-copy\n",
      "  tract_z['TRACTID'] = tract_z['TRACTID'].astype(str)\n"
     ]
    }
   ],
   "source": [
    "tract_z['TRACTID'] = tract_z['TRACTID'].astype(str)"
   ]
  },
  {
   "cell_type": "code",
   "execution_count": 33,
   "metadata": {},
   "outputs": [
    {
     "data": {
      "text/plain": [
       "ZIP           object\n",
       "TRACTID       object\n",
       "RES_RATIO    float64\n",
       "dtype: object"
      ]
     },
     "execution_count": 33,
     "metadata": {},
     "output_type": "execute_result"
    }
   ],
   "source": [
    "tract_z.dtypes"
   ]
  },
  {
   "cell_type": "code",
   "execution_count": null,
   "metadata": {},
   "outputs": [],
   "source": []
  },
  {
   "cell_type": "code",
   "execution_count": 25,
   "metadata": {},
   "outputs": [],
   "source": [
    "clus['TRACTID'] = clus['TRACTID'].astype(str)"
   ]
  },
  {
   "cell_type": "code",
   "execution_count": 24,
   "metadata": {},
   "outputs": [
    {
     "data": {
      "text/plain": [
       "TRACTID    object\n",
       "state      object\n",
       "dtype: object"
      ]
     },
     "execution_count": 24,
     "metadata": {},
     "output_type": "execute_result"
    }
   ],
   "source": [
    "bx.dtypes"
   ]
  },
  {
   "cell_type": "code",
   "execution_count": 27,
   "metadata": {},
   "outputs": [],
   "source": [
    "bx = bx.merge(clus,on = 'TRACTID',how = 'left')"
   ]
  },
  {
   "cell_type": "code",
   "execution_count": 34,
   "metadata": {},
   "outputs": [],
   "source": [
    "bx = bx.merge(tract_z,on = 'TRACTID', how = 'left')"
   ]
  },
  {
   "cell_type": "code",
   "execution_count": null,
   "metadata": {},
   "outputs": [],
   "source": []
  },
  {
   "cell_type": "code",
   "execution_count": 4,
   "metadata": {},
   "outputs": [
    {
     "data": {
      "text/plain": [
       "60609    58\n",
       "60647    54\n",
       "60608    52\n",
       "11236    46\n",
       "11207    46\n",
       "         ..\n",
       "33744     1\n",
       "50136     1\n",
       "64479     1\n",
       "74724     1\n",
       "18441     1\n",
       "Name: ZIP, Length: 36102, dtype: int64"
      ]
     },
     "execution_count": 4,
     "metadata": {},
     "output_type": "execute_result"
    }
   ],
   "source": [
    "tract_z.ZIP.value_counts()"
   ]
  },
  {
   "cell_type": "code",
   "execution_count": 5,
   "metadata": {},
   "outputs": [
    {
     "data": {
      "text/plain": [
       "11001006202    46\n",
       "11001005800    20\n",
       "8123002501     19\n",
       "2050000100     18\n",
       "36001001100    16\n",
       "               ..\n",
       "12099005401     1\n",
       "17043842000     1\n",
       "36081017800     1\n",
       "20091051400     1\n",
       "29189218300     1\n",
       "Name: TRACT, Length: 65755, dtype: int64"
      ]
     },
     "execution_count": 5,
     "metadata": {},
     "output_type": "execute_result"
    }
   ],
   "source": [
    "tract_z.TRACT.value_counts()"
   ]
  },
  {
   "cell_type": "code",
   "execution_count": 6,
   "metadata": {},
   "outputs": [
    {
     "data": {
      "text/plain": [
       "ZIP            int64\n",
       "TRACT          int64\n",
       "RES_RATIO    float64\n",
       "BUS_RATIO    float64\n",
       "OTH_RATIO    float64\n",
       "TOT_RATIO    float64\n",
       "dtype: object"
      ]
     },
     "execution_count": 6,
     "metadata": {},
     "output_type": "execute_result"
    }
   ],
   "source": [
    "tract_z.dtypes"
   ]
  },
  {
   "cell_type": "code",
   "execution_count": 35,
   "metadata": {},
   "outputs": [
    {
     "data": {
      "text/plain": [
       "ZIP           object\n",
       "TRACTID       object\n",
       "RES_RATIO    float64\n",
       "dtype: object"
      ]
     },
     "execution_count": 35,
     "metadata": {},
     "output_type": "execute_result"
    }
   ],
   "source": [
    "tract_z.dtypes"
   ]
  },
  {
   "cell_type": "code",
   "execution_count": 37,
   "metadata": {},
   "outputs": [
    {
     "data": {
      "text/html": [
       "<div>\n",
       "<style scoped>\n",
       "    .dataframe tbody tr th:only-of-type {\n",
       "        vertical-align: middle;\n",
       "    }\n",
       "\n",
       "    .dataframe tbody tr th {\n",
       "        vertical-align: top;\n",
       "    }\n",
       "\n",
       "    .dataframe thead th {\n",
       "        text-align: right;\n",
       "    }\n",
       "</style>\n",
       "<table border=\"1\" class=\"dataframe\">\n",
       "  <thead>\n",
       "    <tr style=\"text-align: right;\">\n",
       "      <th></th>\n",
       "      <th>TRACTID</th>\n",
       "      <th>state</th>\n",
       "      <th>cluster</th>\n",
       "      <th>ZIP</th>\n",
       "      <th>RES_RATIO</th>\n",
       "    </tr>\n",
       "  </thead>\n",
       "  <tbody>\n",
       "    <tr>\n",
       "      <th>0</th>\n",
       "      <td>36005000100</td>\n",
       "      <td>NY</td>\n",
       "      <td>NaN</td>\n",
       "      <td>NaN</td>\n",
       "      <td>NaN</td>\n",
       "    </tr>\n",
       "    <tr>\n",
       "      <th>1</th>\n",
       "      <td>36005000200</td>\n",
       "      <td>NY</td>\n",
       "      <td>Stable</td>\n",
       "      <td>10473</td>\n",
       "      <td>0.045698</td>\n",
       "    </tr>\n",
       "    <tr>\n",
       "      <th>2</th>\n",
       "      <td>36005000400</td>\n",
       "      <td>NY</td>\n",
       "      <td>Gentrifying</td>\n",
       "      <td>10473</td>\n",
       "      <td>0.072402</td>\n",
       "    </tr>\n",
       "    <tr>\n",
       "      <th>3</th>\n",
       "      <td>36005001600</td>\n",
       "      <td>NY</td>\n",
       "      <td>Stable</td>\n",
       "      <td>10473</td>\n",
       "      <td>0.093606</td>\n",
       "    </tr>\n",
       "    <tr>\n",
       "      <th>4</th>\n",
       "      <td>36005001900</td>\n",
       "      <td>NY</td>\n",
       "      <td>Gentrifying</td>\n",
       "      <td>NaN</td>\n",
       "      <td>NaN</td>\n",
       "    </tr>\n",
       "  </tbody>\n",
       "</table>\n",
       "</div>"
      ],
      "text/plain": [
       "       TRACTID state      cluster    ZIP  RES_RATIO\n",
       "0  36005000100    NY          NaN    NaN        NaN\n",
       "1  36005000200    NY       Stable  10473   0.045698\n",
       "2  36005000400    NY  Gentrifying  10473   0.072402\n",
       "3  36005001600    NY       Stable  10473   0.093606\n",
       "4  36005001900    NY  Gentrifying    NaN        NaN"
      ]
     },
     "execution_count": 37,
     "metadata": {},
     "output_type": "execute_result"
    }
   ],
   "source": [
    "bx.head()"
   ]
  },
  {
   "cell_type": "code",
   "execution_count": null,
   "metadata": {},
   "outputs": [],
   "source": []
  },
  {
   "cell_type": "code",
   "execution_count": null,
   "metadata": {},
   "outputs": [],
   "source": []
  },
  {
   "cell_type": "code",
   "execution_count": null,
   "metadata": {},
   "outputs": [],
   "source": []
  },
  {
   "cell_type": "code",
   "execution_count": null,
   "metadata": {},
   "outputs": [],
   "source": []
  }
 ],
 "metadata": {
  "kernelspec": {
   "display_name": "Python 3",
   "language": "python",
   "name": "python3"
  },
  "language_info": {
   "codemirror_mode": {
    "name": "ipython",
    "version": 3
   },
   "file_extension": ".py",
   "mimetype": "text/x-python",
   "name": "python",
   "nbconvert_exporter": "python",
   "pygments_lexer": "ipython3",
   "version": "3.8.3"
  }
 },
 "nbformat": 4,
 "nbformat_minor": 4
}
