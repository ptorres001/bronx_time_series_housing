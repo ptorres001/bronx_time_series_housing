{
 "cells": [
  {
   "cell_type": "markdown",
   "metadata": {},
   "source": [
    "# Tract to Zip Transformation"
   ]
  },
  {
   "cell_type": "markdown",
   "metadata": {},
   "source": [
    "### Trying to convert the census tract to zip code data\n",
    "\n",
    "Load the three data sets I need. \n",
    "\n",
    "Tract_z contains the conversion chart for census tract to zip code.  \n",
    "Clus contains the cluster classification for the census tracts.  \n",
    "Bx contains the census tracts that fall in the Bronx."
   ]
  },
  {
   "cell_type": "code",
   "execution_count": 45,
   "metadata": {},
   "outputs": [],
   "source": [
    "import pandas as pd\n",
    "import numpy as np\n",
    "tract_z = pd.read_excel('ZIP_TRACT_032010.xlsx')\n",
    "\n",
    "clus = pd.read_csv('cluster_pca2_copy.csv')\n",
    "\n",
    "bx = pd.read_pickle('bx2_gpd.pkl')"
   ]
  },
  {
   "cell_type": "code",
   "execution_count": 46,
   "metadata": {},
   "outputs": [
    {
     "data": {
      "text/html": [
       "<div>\n",
       "<style scoped>\n",
       "    .dataframe tbody tr th:only-of-type {\n",
       "        vertical-align: middle;\n",
       "    }\n",
       "\n",
       "    .dataframe tbody tr th {\n",
       "        vertical-align: top;\n",
       "    }\n",
       "\n",
       "    .dataframe thead th {\n",
       "        text-align: right;\n",
       "    }\n",
       "</style>\n",
       "<table border=\"1\" class=\"dataframe\">\n",
       "  <thead>\n",
       "    <tr style=\"text-align: right;\">\n",
       "      <th></th>\n",
       "      <th>Unnamed: 0</th>\n",
       "      <th>TRACTID</th>\n",
       "      <th>cluster</th>\n",
       "    </tr>\n",
       "  </thead>\n",
       "  <tbody>\n",
       "    <tr>\n",
       "      <th>0</th>\n",
       "      <td>0</td>\n",
       "      <td>36005000200</td>\n",
       "      <td>Stable</td>\n",
       "    </tr>\n",
       "    <tr>\n",
       "      <th>1</th>\n",
       "      <td>1</td>\n",
       "      <td>36005000400</td>\n",
       "      <td>Gentrifying</td>\n",
       "    </tr>\n",
       "    <tr>\n",
       "      <th>2</th>\n",
       "      <td>2</td>\n",
       "      <td>36005001600</td>\n",
       "      <td>Stable</td>\n",
       "    </tr>\n",
       "    <tr>\n",
       "      <th>3</th>\n",
       "      <td>3</td>\n",
       "      <td>36005001900</td>\n",
       "      <td>Gentrifying</td>\n",
       "    </tr>\n",
       "    <tr>\n",
       "      <th>4</th>\n",
       "      <td>4</td>\n",
       "      <td>36005002000</td>\n",
       "      <td>Gentrifying</td>\n",
       "    </tr>\n",
       "  </tbody>\n",
       "</table>\n",
       "</div>"
      ],
      "text/plain": [
       "   Unnamed: 0      TRACTID      cluster\n",
       "0           0  36005000200       Stable\n",
       "1           1  36005000400  Gentrifying\n",
       "2           2  36005001600       Stable\n",
       "3           3  36005001900  Gentrifying\n",
       "4           4  36005002000  Gentrifying"
      ]
     },
     "execution_count": 46,
     "metadata": {},
     "output_type": "execute_result"
    }
   ],
   "source": [
    "clus.head()"
   ]
  },
  {
   "cell_type": "code",
   "execution_count": 47,
   "metadata": {},
   "outputs": [
    {
     "data": {
      "text/html": [
       "<div>\n",
       "<style scoped>\n",
       "    .dataframe tbody tr th:only-of-type {\n",
       "        vertical-align: middle;\n",
       "    }\n",
       "\n",
       "    .dataframe tbody tr th {\n",
       "        vertical-align: top;\n",
       "    }\n",
       "\n",
       "    .dataframe thead th {\n",
       "        text-align: right;\n",
       "    }\n",
       "</style>\n",
       "<table border=\"1\" class=\"dataframe\">\n",
       "  <thead>\n",
       "    <tr style=\"text-align: right;\">\n",
       "      <th></th>\n",
       "      <th>TRACTID</th>\n",
       "      <th>state</th>\n",
       "      <th>POP10_POP00_%</th>\n",
       "      <th>NHWHT10%_NHWHT00%</th>\n",
       "      <th>NHBLK10%_NHBLK00%</th>\n",
       "      <th>NTV10%_NTV00%</th>\n",
       "      <th>ASIAN10%_ASIAN00%</th>\n",
       "      <th>HISP10%_HISP00%</th>\n",
       "      <th>HAW10%_HAW00%</th>\n",
       "      <th>INDIA10%_INDIA00%</th>\n",
       "      <th>...</th>\n",
       "      <th>OLANG12%_OLANG00%</th>\n",
       "      <th>PROF12%_PROF00%</th>\n",
       "      <th>RUANC12%_RUANC00%</th>\n",
       "      <th>RUFB12%_RUFB00%</th>\n",
       "      <th>SCANC12%_SCANC00%</th>\n",
       "      <th>SCFB12%_SCFB00%</th>\n",
       "      <th>SEMP12%_SEMP00%</th>\n",
       "      <th>UNEMP12%_UNEMP00%</th>\n",
       "      <th>VET12%_VET00%</th>\n",
       "      <th>WDS12%_WDS00%</th>\n",
       "    </tr>\n",
       "  </thead>\n",
       "  <tbody>\n",
       "    <tr>\n",
       "      <th>0</th>\n",
       "      <td>36005000100</td>\n",
       "      <td>NY</td>\n",
       "      <td>NaN</td>\n",
       "      <td>NaN</td>\n",
       "      <td>NaN</td>\n",
       "      <td>NaN</td>\n",
       "      <td>NaN</td>\n",
       "      <td>NaN</td>\n",
       "      <td>NaN</td>\n",
       "      <td>NaN</td>\n",
       "      <td>...</td>\n",
       "      <td>NaN</td>\n",
       "      <td>NaN</td>\n",
       "      <td>NaN</td>\n",
       "      <td>NaN</td>\n",
       "      <td>NaN</td>\n",
       "      <td>NaN</td>\n",
       "      <td>NaN</td>\n",
       "      <td>NaN</td>\n",
       "      <td>NaN</td>\n",
       "      <td>NaN</td>\n",
       "    </tr>\n",
       "    <tr>\n",
       "      <th>1</th>\n",
       "      <td>36005000200</td>\n",
       "      <td>NY</td>\n",
       "      <td>22.256700</td>\n",
       "      <td>-49.122660</td>\n",
       "      <td>2.573296</td>\n",
       "      <td>22.692663</td>\n",
       "      <td>348.237194</td>\n",
       "      <td>-0.644172</td>\n",
       "      <td>0.0</td>\n",
       "      <td>203.810403</td>\n",
       "      <td>...</td>\n",
       "      <td>-6.325945</td>\n",
       "      <td>15.352474</td>\n",
       "      <td>0.0</td>\n",
       "      <td>0.0</td>\n",
       "      <td>0.0</td>\n",
       "      <td>0.0</td>\n",
       "      <td>-27.864742</td>\n",
       "      <td>56.251886</td>\n",
       "      <td>-30.017942</td>\n",
       "      <td>10.642324</td>\n",
       "    </tr>\n",
       "    <tr>\n",
       "      <th>2</th>\n",
       "      <td>36005000400</td>\n",
       "      <td>NY</td>\n",
       "      <td>66.053108</td>\n",
       "      <td>-34.586777</td>\n",
       "      <td>11.385660</td>\n",
       "      <td>-6.321804</td>\n",
       "      <td>-10.730190</td>\n",
       "      <td>0.280476</td>\n",
       "      <td>0.0</td>\n",
       "      <td>15.129715</td>\n",
       "      <td>...</td>\n",
       "      <td>-1.180914</td>\n",
       "      <td>89.523403</td>\n",
       "      <td>0.0</td>\n",
       "      <td>0.0</td>\n",
       "      <td>0.0</td>\n",
       "      <td>0.0</td>\n",
       "      <td>132.151767</td>\n",
       "      <td>-18.746882</td>\n",
       "      <td>-37.978389</td>\n",
       "      <td>-1.541920</td>\n",
       "    </tr>\n",
       "    <tr>\n",
       "      <th>3</th>\n",
       "      <td>36005001600</td>\n",
       "      <td>NY</td>\n",
       "      <td>7.752530</td>\n",
       "      <td>-27.611909</td>\n",
       "      <td>5.883646</td>\n",
       "      <td>-10.906964</td>\n",
       "      <td>-3.880282</td>\n",
       "      <td>-0.569888</td>\n",
       "      <td>0.0</td>\n",
       "      <td>22.742421</td>\n",
       "      <td>...</td>\n",
       "      <td>-5.462912</td>\n",
       "      <td>9.436878</td>\n",
       "      <td>-100.0</td>\n",
       "      <td>0.0</td>\n",
       "      <td>-100.0</td>\n",
       "      <td>0.0</td>\n",
       "      <td>95.033353</td>\n",
       "      <td>-72.389364</td>\n",
       "      <td>-47.443458</td>\n",
       "      <td>-4.264159</td>\n",
       "    </tr>\n",
       "    <tr>\n",
       "      <th>4</th>\n",
       "      <td>36005001900</td>\n",
       "      <td>NY</td>\n",
       "      <td>21.022727</td>\n",
       "      <td>69.798277</td>\n",
       "      <td>-11.932458</td>\n",
       "      <td>-8.189880</td>\n",
       "      <td>48.732394</td>\n",
       "      <td>-0.711123</td>\n",
       "      <td>0.0</td>\n",
       "      <td>-64.587525</td>\n",
       "      <td>...</td>\n",
       "      <td>-2.872925</td>\n",
       "      <td>136.552423</td>\n",
       "      <td>0.0</td>\n",
       "      <td>0.0</td>\n",
       "      <td>0.0</td>\n",
       "      <td>0.0</td>\n",
       "      <td>139.456688</td>\n",
       "      <td>-61.000967</td>\n",
       "      <td>-14.107097</td>\n",
       "      <td>5.472709</td>\n",
       "    </tr>\n",
       "  </tbody>\n",
       "</table>\n",
       "<p>5 rows × 109 columns</p>\n",
       "</div>"
      ],
      "text/plain": [
       "       TRACTID state  POP10_POP00_%  NHWHT10%_NHWHT00%  NHBLK10%_NHBLK00%  \\\n",
       "0  36005000100    NY            NaN                NaN                NaN   \n",
       "1  36005000200    NY      22.256700         -49.122660           2.573296   \n",
       "2  36005000400    NY      66.053108         -34.586777          11.385660   \n",
       "3  36005001600    NY       7.752530         -27.611909           5.883646   \n",
       "4  36005001900    NY      21.022727          69.798277         -11.932458   \n",
       "\n",
       "   NTV10%_NTV00%  ASIAN10%_ASIAN00%  HISP10%_HISP00%  HAW10%_HAW00%  \\\n",
       "0            NaN                NaN              NaN            NaN   \n",
       "1      22.692663         348.237194        -0.644172            0.0   \n",
       "2      -6.321804         -10.730190         0.280476            0.0   \n",
       "3     -10.906964          -3.880282        -0.569888            0.0   \n",
       "4      -8.189880          48.732394        -0.711123            0.0   \n",
       "\n",
       "   INDIA10%_INDIA00%  ...  OLANG12%_OLANG00%  PROF12%_PROF00%  \\\n",
       "0                NaN  ...                NaN              NaN   \n",
       "1         203.810403  ...          -6.325945        15.352474   \n",
       "2          15.129715  ...          -1.180914        89.523403   \n",
       "3          22.742421  ...          -5.462912         9.436878   \n",
       "4         -64.587525  ...          -2.872925       136.552423   \n",
       "\n",
       "   RUANC12%_RUANC00%  RUFB12%_RUFB00%  SCANC12%_SCANC00%  SCFB12%_SCFB00%  \\\n",
       "0                NaN              NaN                NaN              NaN   \n",
       "1                0.0              0.0                0.0              0.0   \n",
       "2                0.0              0.0                0.0              0.0   \n",
       "3             -100.0              0.0             -100.0              0.0   \n",
       "4                0.0              0.0                0.0              0.0   \n",
       "\n",
       "   SEMP12%_SEMP00%  UNEMP12%_UNEMP00%  VET12%_VET00%  WDS12%_WDS00%  \n",
       "0              NaN                NaN            NaN            NaN  \n",
       "1       -27.864742          56.251886     -30.017942      10.642324  \n",
       "2       132.151767         -18.746882     -37.978389      -1.541920  \n",
       "3        95.033353         -72.389364     -47.443458      -4.264159  \n",
       "4       139.456688         -61.000967     -14.107097       5.472709  \n",
       "\n",
       "[5 rows x 109 columns]"
      ]
     },
     "execution_count": 47,
     "metadata": {},
     "output_type": "execute_result"
    }
   ],
   "source": [
    "bx.head()"
   ]
  },
  {
   "cell_type": "code",
   "execution_count": 48,
   "metadata": {},
   "outputs": [
    {
     "data": {
      "text/html": [
       "<div>\n",
       "<style scoped>\n",
       "    .dataframe tbody tr th:only-of-type {\n",
       "        vertical-align: middle;\n",
       "    }\n",
       "\n",
       "    .dataframe tbody tr th {\n",
       "        vertical-align: top;\n",
       "    }\n",
       "\n",
       "    .dataframe thead th {\n",
       "        text-align: right;\n",
       "    }\n",
       "</style>\n",
       "<table border=\"1\" class=\"dataframe\">\n",
       "  <thead>\n",
       "    <tr style=\"text-align: right;\">\n",
       "      <th></th>\n",
       "      <th>ZIP</th>\n",
       "      <th>TRACT</th>\n",
       "      <th>RES_RATIO</th>\n",
       "      <th>BUS_RATIO</th>\n",
       "      <th>OTH_RATIO</th>\n",
       "      <th>TOT_RATIO</th>\n",
       "    </tr>\n",
       "  </thead>\n",
       "  <tbody>\n",
       "    <tr>\n",
       "      <th>0</th>\n",
       "      <td>501</td>\n",
       "      <td>36103158607</td>\n",
       "      <td>0.000000</td>\n",
       "      <td>1.000000</td>\n",
       "      <td>0.000000</td>\n",
       "      <td>1.000000</td>\n",
       "    </tr>\n",
       "    <tr>\n",
       "      <th>1</th>\n",
       "      <td>544</td>\n",
       "      <td>36103158607</td>\n",
       "      <td>0.000000</td>\n",
       "      <td>1.000000</td>\n",
       "      <td>0.000000</td>\n",
       "      <td>1.000000</td>\n",
       "    </tr>\n",
       "    <tr>\n",
       "      <th>2</th>\n",
       "      <td>601</td>\n",
       "      <td>72001956300</td>\n",
       "      <td>0.004316</td>\n",
       "      <td>0.005063</td>\n",
       "      <td>0.000000</td>\n",
       "      <td>0.004310</td>\n",
       "    </tr>\n",
       "    <tr>\n",
       "      <th>3</th>\n",
       "      <td>601</td>\n",
       "      <td>72001956600</td>\n",
       "      <td>0.728760</td>\n",
       "      <td>0.448101</td>\n",
       "      <td>0.546667</td>\n",
       "      <td>0.703202</td>\n",
       "    </tr>\n",
       "    <tr>\n",
       "      <th>4</th>\n",
       "      <td>601</td>\n",
       "      <td>72001956700</td>\n",
       "      <td>0.266924</td>\n",
       "      <td>0.546835</td>\n",
       "      <td>0.453333</td>\n",
       "      <td>0.292488</td>\n",
       "    </tr>\n",
       "  </tbody>\n",
       "</table>\n",
       "</div>"
      ],
      "text/plain": [
       "   ZIP        TRACT  RES_RATIO  BUS_RATIO  OTH_RATIO  TOT_RATIO\n",
       "0  501  36103158607   0.000000   1.000000   0.000000   1.000000\n",
       "1  544  36103158607   0.000000   1.000000   0.000000   1.000000\n",
       "2  601  72001956300   0.004316   0.005063   0.000000   0.004310\n",
       "3  601  72001956600   0.728760   0.448101   0.546667   0.703202\n",
       "4  601  72001956700   0.266924   0.546835   0.453333   0.292488"
      ]
     },
     "execution_count": 48,
     "metadata": {},
     "output_type": "execute_result"
    }
   ],
   "source": [
    "tract_z.head()"
   ]
  },
  {
   "cell_type": "markdown",
   "metadata": {},
   "source": [
    "Group the information from the census tract conversion to see how the census tracts are situated in a zip code.   \n",
    "  \n",
    "We will see if census tracts straddle zip codes and if zip codes are straddled or completely contain multiple census tracts."
   ]
  },
  {
   "cell_type": "code",
   "execution_count": 49,
   "metadata": {},
   "outputs": [],
   "source": [
    "tract_count = tract_z.groupby(['TRACT'])['ZIP'].value_counts()"
   ]
  },
  {
   "cell_type": "code",
   "execution_count": 73,
   "metadata": {},
   "outputs": [],
   "source": [
    "tract_res = tract_z.groupby(['TRACTID','RES_RATIO'])['ZIP'].value_counts()"
   ]
  },
  {
   "cell_type": "code",
   "execution_count": 75,
   "metadata": {},
   "outputs": [
    {
     "data": {
      "text/plain": [
       "TRACTID      RES_RATIO  ZIP  \n",
       "10001040100  0.000000   19955    1\n",
       "             0.019005   19977    1\n",
       "             0.034414   19904    1\n",
       "             0.037160   19953    1\n",
       "             0.605191   19938    1\n",
       "10001040201  0.119568   19977    1\n",
       "             0.161475   19938    1\n",
       "10001040202  0.000466   19901    1\n",
       "             0.035646   19904    1\n",
       "             0.165574   19938    1\n",
       "Name: ZIP, dtype: int64"
      ]
     },
     "execution_count": 75,
     "metadata": {},
     "output_type": "execute_result"
    }
   ],
   "source": [
    "tract_res.head(10)"
   ]
  },
  {
   "cell_type": "code",
   "execution_count": 50,
   "metadata": {},
   "outputs": [
    {
     "data": {
      "text/plain": [
       "TRACT       ZIP  \n",
       "1001020100  36067    1\n",
       "1001020200  36008    1\n",
       "            36067    1\n",
       "1001020300  36067    1\n",
       "1001020400  36066    1\n",
       "            36067    1\n",
       "1001020500  36066    1\n",
       "            36067    1\n",
       "1001020600  36067    1\n",
       "1001020700  36067    1\n",
       "Name: ZIP, dtype: int64"
      ]
     },
     "execution_count": 50,
     "metadata": {},
     "output_type": "execute_result"
    }
   ],
   "source": [
    "tract_count.head(10)"
   ]
  },
  {
   "cell_type": "code",
   "execution_count": 51,
   "metadata": {},
   "outputs": [],
   "source": [
    "zip_count = tract_z.groupby('ZIP')['TRACT'].value_counts()"
   ]
  },
  {
   "cell_type": "code",
   "execution_count": 52,
   "metadata": {},
   "outputs": [
    {
     "data": {
      "text/plain": [
       "ZIP  TRACT      \n",
       "501  36103158607    1\n",
       "544  36103158607    1\n",
       "601  72001956300    1\n",
       "     72001956600    1\n",
       "     72001956700    1\n",
       "602  72003430200    1\n",
       "     72003430300    1\n",
       "603  72005400300    1\n",
       "     72005400400    1\n",
       "     72005400500    1\n",
       "Name: TRACT, dtype: int64"
      ]
     },
     "execution_count": 52,
     "metadata": {},
     "output_type": "execute_result"
    }
   ],
   "source": [
    "zip_count.head(10)"
   ]
  },
  {
   "cell_type": "code",
   "execution_count": 70,
   "metadata": {},
   "outputs": [],
   "source": [
    "zip_count = zip_count.to_frame()"
   ]
  },
  {
   "cell_type": "code",
   "execution_count": 71,
   "metadata": {},
   "outputs": [
    {
     "data": {
      "text/html": [
       "<div>\n",
       "<style scoped>\n",
       "    .dataframe tbody tr th:only-of-type {\n",
       "        vertical-align: middle;\n",
       "    }\n",
       "\n",
       "    .dataframe tbody tr th {\n",
       "        vertical-align: top;\n",
       "    }\n",
       "\n",
       "    .dataframe thead th {\n",
       "        text-align: right;\n",
       "    }\n",
       "</style>\n",
       "<table border=\"1\" class=\"dataframe\">\n",
       "  <thead>\n",
       "    <tr style=\"text-align: right;\">\n",
       "      <th></th>\n",
       "      <th></th>\n",
       "      <th>TRACT</th>\n",
       "    </tr>\n",
       "    <tr>\n",
       "      <th>ZIP</th>\n",
       "      <th>TRACT</th>\n",
       "      <th></th>\n",
       "    </tr>\n",
       "  </thead>\n",
       "  <tbody>\n",
       "    <tr>\n",
       "      <th>501</th>\n",
       "      <th>36103158607</th>\n",
       "      <td>1</td>\n",
       "    </tr>\n",
       "    <tr>\n",
       "      <th>544</th>\n",
       "      <th>36103158607</th>\n",
       "      <td>1</td>\n",
       "    </tr>\n",
       "    <tr>\n",
       "      <th rowspan=\"3\" valign=\"top\">601</th>\n",
       "      <th>72001956300</th>\n",
       "      <td>1</td>\n",
       "    </tr>\n",
       "    <tr>\n",
       "      <th>72001956600</th>\n",
       "      <td>1</td>\n",
       "    </tr>\n",
       "    <tr>\n",
       "      <th>72001956700</th>\n",
       "      <td>1</td>\n",
       "    </tr>\n",
       "  </tbody>\n",
       "</table>\n",
       "</div>"
      ],
      "text/plain": [
       "                 TRACT\n",
       "ZIP TRACT             \n",
       "501 36103158607      1\n",
       "544 36103158607      1\n",
       "601 72001956300      1\n",
       "    72001956600      1\n",
       "    72001956700      1"
      ]
     },
     "execution_count": 71,
     "metadata": {},
     "output_type": "execute_result"
    }
   ],
   "source": [
    "zip_count.head()"
   ]
  },
  {
   "cell_type": "code",
   "execution_count": 53,
   "metadata": {},
   "outputs": [],
   "source": [
    "bx = bx[['TRACTID','state']]\n",
    "clus = clus[['TRACTID','cluster']]\n",
    "tract_z = tract_z[['ZIP','TRACT','RES_RATIO']]"
   ]
  },
  {
   "cell_type": "code",
   "execution_count": 54,
   "metadata": {},
   "outputs": [
    {
     "data": {
      "text/html": [
       "<div>\n",
       "<style scoped>\n",
       "    .dataframe tbody tr th:only-of-type {\n",
       "        vertical-align: middle;\n",
       "    }\n",
       "\n",
       "    .dataframe tbody tr th {\n",
       "        vertical-align: top;\n",
       "    }\n",
       "\n",
       "    .dataframe thead th {\n",
       "        text-align: right;\n",
       "    }\n",
       "</style>\n",
       "<table border=\"1\" class=\"dataframe\">\n",
       "  <thead>\n",
       "    <tr style=\"text-align: right;\">\n",
       "      <th></th>\n",
       "      <th>TRACTID</th>\n",
       "      <th>state</th>\n",
       "    </tr>\n",
       "  </thead>\n",
       "  <tbody>\n",
       "    <tr>\n",
       "      <th>0</th>\n",
       "      <td>36005000100</td>\n",
       "      <td>NY</td>\n",
       "    </tr>\n",
       "    <tr>\n",
       "      <th>1</th>\n",
       "      <td>36005000200</td>\n",
       "      <td>NY</td>\n",
       "    </tr>\n",
       "    <tr>\n",
       "      <th>2</th>\n",
       "      <td>36005000400</td>\n",
       "      <td>NY</td>\n",
       "    </tr>\n",
       "    <tr>\n",
       "      <th>3</th>\n",
       "      <td>36005001600</td>\n",
       "      <td>NY</td>\n",
       "    </tr>\n",
       "    <tr>\n",
       "      <th>4</th>\n",
       "      <td>36005001900</td>\n",
       "      <td>NY</td>\n",
       "    </tr>\n",
       "  </tbody>\n",
       "</table>\n",
       "</div>"
      ],
      "text/plain": [
       "       TRACTID state\n",
       "0  36005000100    NY\n",
       "1  36005000200    NY\n",
       "2  36005000400    NY\n",
       "3  36005001600    NY\n",
       "4  36005001900    NY"
      ]
     },
     "execution_count": 54,
     "metadata": {},
     "output_type": "execute_result"
    }
   ],
   "source": [
    "bx.head()"
   ]
  },
  {
   "cell_type": "code",
   "execution_count": 55,
   "metadata": {},
   "outputs": [
    {
     "data": {
      "text/html": [
       "<div>\n",
       "<style scoped>\n",
       "    .dataframe tbody tr th:only-of-type {\n",
       "        vertical-align: middle;\n",
       "    }\n",
       "\n",
       "    .dataframe tbody tr th {\n",
       "        vertical-align: top;\n",
       "    }\n",
       "\n",
       "    .dataframe thead th {\n",
       "        text-align: right;\n",
       "    }\n",
       "</style>\n",
       "<table border=\"1\" class=\"dataframe\">\n",
       "  <thead>\n",
       "    <tr style=\"text-align: right;\">\n",
       "      <th></th>\n",
       "      <th>TRACTID</th>\n",
       "      <th>cluster</th>\n",
       "    </tr>\n",
       "  </thead>\n",
       "  <tbody>\n",
       "    <tr>\n",
       "      <th>0</th>\n",
       "      <td>36005000200</td>\n",
       "      <td>Stable</td>\n",
       "    </tr>\n",
       "    <tr>\n",
       "      <th>1</th>\n",
       "      <td>36005000400</td>\n",
       "      <td>Gentrifying</td>\n",
       "    </tr>\n",
       "    <tr>\n",
       "      <th>2</th>\n",
       "      <td>36005001600</td>\n",
       "      <td>Stable</td>\n",
       "    </tr>\n",
       "    <tr>\n",
       "      <th>3</th>\n",
       "      <td>36005001900</td>\n",
       "      <td>Gentrifying</td>\n",
       "    </tr>\n",
       "    <tr>\n",
       "      <th>4</th>\n",
       "      <td>36005002000</td>\n",
       "      <td>Gentrifying</td>\n",
       "    </tr>\n",
       "  </tbody>\n",
       "</table>\n",
       "</div>"
      ],
      "text/plain": [
       "       TRACTID      cluster\n",
       "0  36005000200       Stable\n",
       "1  36005000400  Gentrifying\n",
       "2  36005001600       Stable\n",
       "3  36005001900  Gentrifying\n",
       "4  36005002000  Gentrifying"
      ]
     },
     "execution_count": 55,
     "metadata": {},
     "output_type": "execute_result"
    }
   ],
   "source": [
    "clus.head()"
   ]
  },
  {
   "cell_type": "code",
   "execution_count": 56,
   "metadata": {},
   "outputs": [
    {
     "data": {
      "text/html": [
       "<div>\n",
       "<style scoped>\n",
       "    .dataframe tbody tr th:only-of-type {\n",
       "        vertical-align: middle;\n",
       "    }\n",
       "\n",
       "    .dataframe tbody tr th {\n",
       "        vertical-align: top;\n",
       "    }\n",
       "\n",
       "    .dataframe thead th {\n",
       "        text-align: right;\n",
       "    }\n",
       "</style>\n",
       "<table border=\"1\" class=\"dataframe\">\n",
       "  <thead>\n",
       "    <tr style=\"text-align: right;\">\n",
       "      <th></th>\n",
       "      <th>ZIP</th>\n",
       "      <th>TRACT</th>\n",
       "      <th>RES_RATIO</th>\n",
       "    </tr>\n",
       "  </thead>\n",
       "  <tbody>\n",
       "    <tr>\n",
       "      <th>0</th>\n",
       "      <td>501</td>\n",
       "      <td>36103158607</td>\n",
       "      <td>0.000000</td>\n",
       "    </tr>\n",
       "    <tr>\n",
       "      <th>1</th>\n",
       "      <td>544</td>\n",
       "      <td>36103158607</td>\n",
       "      <td>0.000000</td>\n",
       "    </tr>\n",
       "    <tr>\n",
       "      <th>2</th>\n",
       "      <td>601</td>\n",
       "      <td>72001956300</td>\n",
       "      <td>0.004316</td>\n",
       "    </tr>\n",
       "    <tr>\n",
       "      <th>3</th>\n",
       "      <td>601</td>\n",
       "      <td>72001956600</td>\n",
       "      <td>0.728760</td>\n",
       "    </tr>\n",
       "    <tr>\n",
       "      <th>4</th>\n",
       "      <td>601</td>\n",
       "      <td>72001956700</td>\n",
       "      <td>0.266924</td>\n",
       "    </tr>\n",
       "  </tbody>\n",
       "</table>\n",
       "</div>"
      ],
      "text/plain": [
       "   ZIP        TRACT  RES_RATIO\n",
       "0  501  36103158607   0.000000\n",
       "1  544  36103158607   0.000000\n",
       "2  601  72001956300   0.004316\n",
       "3  601  72001956600   0.728760\n",
       "4  601  72001956700   0.266924"
      ]
     },
     "execution_count": 56,
     "metadata": {},
     "output_type": "execute_result"
    }
   ],
   "source": [
    "tract_z.head()"
   ]
  },
  {
   "cell_type": "code",
   "execution_count": 57,
   "metadata": {},
   "outputs": [],
   "source": [
    "tract_z.rename(columns={'TRACT':'TRACTID'},inplace=True)"
   ]
  },
  {
   "cell_type": "code",
   "execution_count": 58,
   "metadata": {},
   "outputs": [],
   "source": [
    "tract_z['TRACTID'] = tract_z['TRACTID'].astype(str)\n",
    "tract_z['ZIP'] = tract_z['ZIP'].astype(str)"
   ]
  },
  {
   "cell_type": "code",
   "execution_count": 59,
   "metadata": {},
   "outputs": [
    {
     "data": {
      "text/plain": [
       "ZIP           object\n",
       "TRACTID       object\n",
       "RES_RATIO    float64\n",
       "dtype: object"
      ]
     },
     "execution_count": 59,
     "metadata": {},
     "output_type": "execute_result"
    }
   ],
   "source": [
    "tract_z.dtypes"
   ]
  },
  {
   "cell_type": "code",
   "execution_count": null,
   "metadata": {},
   "outputs": [],
   "source": []
  },
  {
   "cell_type": "code",
   "execution_count": 60,
   "metadata": {},
   "outputs": [],
   "source": [
    "clus['TRACTID'] = clus['TRACTID'].astype(str)"
   ]
  },
  {
   "cell_type": "code",
   "execution_count": 61,
   "metadata": {},
   "outputs": [
    {
     "data": {
      "text/plain": [
       "TRACTID    object\n",
       "state      object\n",
       "dtype: object"
      ]
     },
     "execution_count": 61,
     "metadata": {},
     "output_type": "execute_result"
    }
   ],
   "source": [
    "bx.dtypes"
   ]
  },
  {
   "cell_type": "code",
   "execution_count": 62,
   "metadata": {},
   "outputs": [],
   "source": [
    "clus = clus.merge(bx,on = 'TRACTID',how = 'inner')"
   ]
  },
  {
   "cell_type": "code",
   "execution_count": null,
   "metadata": {},
   "outputs": [],
   "source": [
    "#bx = bx.merge(tract_z,on = 'TRACTID', how = 'left')"
   ]
  },
  {
   "cell_type": "code",
   "execution_count": 63,
   "metadata": {},
   "outputs": [
    {
     "data": {
      "text/html": [
       "<div>\n",
       "<style scoped>\n",
       "    .dataframe tbody tr th:only-of-type {\n",
       "        vertical-align: middle;\n",
       "    }\n",
       "\n",
       "    .dataframe tbody tr th {\n",
       "        vertical-align: top;\n",
       "    }\n",
       "\n",
       "    .dataframe thead th {\n",
       "        text-align: right;\n",
       "    }\n",
       "</style>\n",
       "<table border=\"1\" class=\"dataframe\">\n",
       "  <thead>\n",
       "    <tr style=\"text-align: right;\">\n",
       "      <th></th>\n",
       "      <th>TRACTID</th>\n",
       "      <th>cluster</th>\n",
       "      <th>state</th>\n",
       "    </tr>\n",
       "  </thead>\n",
       "  <tbody>\n",
       "    <tr>\n",
       "      <th>0</th>\n",
       "      <td>36005000200</td>\n",
       "      <td>Stable</td>\n",
       "      <td>NY</td>\n",
       "    </tr>\n",
       "    <tr>\n",
       "      <th>1</th>\n",
       "      <td>36005000400</td>\n",
       "      <td>Gentrifying</td>\n",
       "      <td>NY</td>\n",
       "    </tr>\n",
       "    <tr>\n",
       "      <th>2</th>\n",
       "      <td>36005001600</td>\n",
       "      <td>Stable</td>\n",
       "      <td>NY</td>\n",
       "    </tr>\n",
       "    <tr>\n",
       "      <th>3</th>\n",
       "      <td>36005001900</td>\n",
       "      <td>Gentrifying</td>\n",
       "      <td>NY</td>\n",
       "    </tr>\n",
       "    <tr>\n",
       "      <th>4</th>\n",
       "      <td>36005002000</td>\n",
       "      <td>Gentrifying</td>\n",
       "      <td>NY</td>\n",
       "    </tr>\n",
       "  </tbody>\n",
       "</table>\n",
       "</div>"
      ],
      "text/plain": [
       "       TRACTID      cluster state\n",
       "0  36005000200       Stable    NY\n",
       "1  36005000400  Gentrifying    NY\n",
       "2  36005001600       Stable    NY\n",
       "3  36005001900  Gentrifying    NY\n",
       "4  36005002000  Gentrifying    NY"
      ]
     },
     "execution_count": 63,
     "metadata": {},
     "output_type": "execute_result"
    }
   ],
   "source": [
    "clus.head()"
   ]
  },
  {
   "cell_type": "code",
   "execution_count": 64,
   "metadata": {},
   "outputs": [
    {
     "data": {
      "text/plain": [
       "(326, 3)"
      ]
     },
     "execution_count": 64,
     "metadata": {},
     "output_type": "execute_result"
    }
   ],
   "source": [
    "clus.shape"
   ]
  },
  {
   "cell_type": "code",
   "execution_count": 65,
   "metadata": {},
   "outputs": [
    {
     "data": {
      "text/plain": [
       "Stable         259\n",
       "Mixture         41\n",
       "Gentrifying     26\n",
       "Name: cluster, dtype: int64"
      ]
     },
     "execution_count": 65,
     "metadata": {},
     "output_type": "execute_result"
    }
   ],
   "source": [
    "clus.cluster.value_counts()"
   ]
  },
  {
   "cell_type": "code",
   "execution_count": null,
   "metadata": {},
   "outputs": [],
   "source": []
  },
  {
   "cell_type": "code",
   "execution_count": 22,
   "metadata": {},
   "outputs": [
    {
     "data": {
      "text/plain": [
       "(338, 3)"
      ]
     },
     "execution_count": 22,
     "metadata": {},
     "output_type": "execute_result"
    }
   ],
   "source": [
    "bx.shape"
   ]
  },
  {
   "cell_type": "code",
   "execution_count": null,
   "metadata": {},
   "outputs": [],
   "source": [
    "tract_z.ZIP.value_counts()"
   ]
  },
  {
   "cell_type": "code",
   "execution_count": null,
   "metadata": {},
   "outputs": [],
   "source": [
    "tract_z.TRACT.value_counts()"
   ]
  },
  {
   "cell_type": "code",
   "execution_count": null,
   "metadata": {},
   "outputs": [],
   "source": [
    "tract_z.dtypes"
   ]
  },
  {
   "cell_type": "code",
   "execution_count": null,
   "metadata": {},
   "outputs": [],
   "source": [
    "tract_z.dtypes"
   ]
  },
  {
   "cell_type": "code",
   "execution_count": null,
   "metadata": {},
   "outputs": [],
   "source": [
    "bx.head()"
   ]
  },
  {
   "cell_type": "code",
   "execution_count": null,
   "metadata": {},
   "outputs": [],
   "source": []
  },
  {
   "cell_type": "code",
   "execution_count": null,
   "metadata": {},
   "outputs": [],
   "source": []
  },
  {
   "cell_type": "code",
   "execution_count": null,
   "metadata": {},
   "outputs": [],
   "source": []
  },
  {
   "cell_type": "code",
   "execution_count": null,
   "metadata": {},
   "outputs": [],
   "source": []
  }
 ],
 "metadata": {
  "kernelspec": {
   "display_name": "Python 3",
   "language": "python",
   "name": "python3"
  },
  "language_info": {
   "codemirror_mode": {
    "name": "ipython",
    "version": 3
   },
   "file_extension": ".py",
   "mimetype": "text/x-python",
   "name": "python",
   "nbconvert_exporter": "python",
   "pygments_lexer": "ipython3",
   "version": "3.8.3"
  }
 },
 "nbformat": 4,
 "nbformat_minor": 4
}
