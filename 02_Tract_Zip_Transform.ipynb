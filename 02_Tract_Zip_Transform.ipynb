{
 "cells": [
  {
   "cell_type": "markdown",
   "metadata": {},
   "source": [
    "# Tract to Zip Transformation"
   ]
  },
  {
   "cell_type": "markdown",
   "metadata": {},
   "source": [
    "### Trying to convert the census tract to zip code data"
   ]
  },
  {
   "cell_type": "code",
   "execution_count": 1,
   "metadata": {},
   "outputs": [],
   "source": [
    "import pandas as pd\n",
    "import numpy as np\n",
    "tract_z = pd.read_excel('ZIP_TRACT_032010.xlsx')"
   ]
  },
  {
   "cell_type": "code",
   "execution_count": 2,
   "metadata": {},
   "outputs": [
    {
     "data": {
      "text/html": [
       "<div>\n",
       "<style scoped>\n",
       "    .dataframe tbody tr th:only-of-type {\n",
       "        vertical-align: middle;\n",
       "    }\n",
       "\n",
       "    .dataframe tbody tr th {\n",
       "        vertical-align: top;\n",
       "    }\n",
       "\n",
       "    .dataframe thead th {\n",
       "        text-align: right;\n",
       "    }\n",
       "</style>\n",
       "<table border=\"1\" class=\"dataframe\">\n",
       "  <thead>\n",
       "    <tr style=\"text-align: right;\">\n",
       "      <th></th>\n",
       "      <th>ZIP</th>\n",
       "      <th>TRACT</th>\n",
       "      <th>RES_RATIO</th>\n",
       "      <th>BUS_RATIO</th>\n",
       "      <th>OTH_RATIO</th>\n",
       "      <th>TOT_RATIO</th>\n",
       "    </tr>\n",
       "  </thead>\n",
       "  <tbody>\n",
       "    <tr>\n",
       "      <th>0</th>\n",
       "      <td>501</td>\n",
       "      <td>36103158607</td>\n",
       "      <td>0.000000</td>\n",
       "      <td>1.000000</td>\n",
       "      <td>0.000000</td>\n",
       "      <td>1.000000</td>\n",
       "    </tr>\n",
       "    <tr>\n",
       "      <th>1</th>\n",
       "      <td>544</td>\n",
       "      <td>36103158607</td>\n",
       "      <td>0.000000</td>\n",
       "      <td>1.000000</td>\n",
       "      <td>0.000000</td>\n",
       "      <td>1.000000</td>\n",
       "    </tr>\n",
       "    <tr>\n",
       "      <th>2</th>\n",
       "      <td>601</td>\n",
       "      <td>72001956300</td>\n",
       "      <td>0.004316</td>\n",
       "      <td>0.005063</td>\n",
       "      <td>0.000000</td>\n",
       "      <td>0.004310</td>\n",
       "    </tr>\n",
       "    <tr>\n",
       "      <th>3</th>\n",
       "      <td>601</td>\n",
       "      <td>72001956600</td>\n",
       "      <td>0.728760</td>\n",
       "      <td>0.448101</td>\n",
       "      <td>0.546667</td>\n",
       "      <td>0.703202</td>\n",
       "    </tr>\n",
       "    <tr>\n",
       "      <th>4</th>\n",
       "      <td>601</td>\n",
       "      <td>72001956700</td>\n",
       "      <td>0.266924</td>\n",
       "      <td>0.546835</td>\n",
       "      <td>0.453333</td>\n",
       "      <td>0.292488</td>\n",
       "    </tr>\n",
       "    <tr>\n",
       "      <th>5</th>\n",
       "      <td>602</td>\n",
       "      <td>72003430200</td>\n",
       "      <td>0.844570</td>\n",
       "      <td>0.442907</td>\n",
       "      <td>0.382353</td>\n",
       "      <td>0.813423</td>\n",
       "    </tr>\n",
       "    <tr>\n",
       "      <th>6</th>\n",
       "      <td>602</td>\n",
       "      <td>72003430300</td>\n",
       "      <td>0.155430</td>\n",
       "      <td>0.557093</td>\n",
       "      <td>0.617647</td>\n",
       "      <td>0.186577</td>\n",
       "    </tr>\n",
       "    <tr>\n",
       "      <th>7</th>\n",
       "      <td>603</td>\n",
       "      <td>72005400300</td>\n",
       "      <td>0.048714</td>\n",
       "      <td>0.051973</td>\n",
       "      <td>0.000000</td>\n",
       "      <td>0.047413</td>\n",
       "    </tr>\n",
       "    <tr>\n",
       "      <th>8</th>\n",
       "      <td>603</td>\n",
       "      <td>72005400400</td>\n",
       "      <td>0.004894</td>\n",
       "      <td>0.000962</td>\n",
       "      <td>0.000000</td>\n",
       "      <td>0.004533</td>\n",
       "    </tr>\n",
       "    <tr>\n",
       "      <th>9</th>\n",
       "      <td>603</td>\n",
       "      <td>72005400500</td>\n",
       "      <td>0.034031</td>\n",
       "      <td>0.014437</td>\n",
       "      <td>0.010309</td>\n",
       "      <td>0.032251</td>\n",
       "    </tr>\n",
       "  </tbody>\n",
       "</table>\n",
       "</div>"
      ],
      "text/plain": [
       "   ZIP        TRACT  RES_RATIO  BUS_RATIO  OTH_RATIO  TOT_RATIO\n",
       "0  501  36103158607   0.000000   1.000000   0.000000   1.000000\n",
       "1  544  36103158607   0.000000   1.000000   0.000000   1.000000\n",
       "2  601  72001956300   0.004316   0.005063   0.000000   0.004310\n",
       "3  601  72001956600   0.728760   0.448101   0.546667   0.703202\n",
       "4  601  72001956700   0.266924   0.546835   0.453333   0.292488\n",
       "5  602  72003430200   0.844570   0.442907   0.382353   0.813423\n",
       "6  602  72003430300   0.155430   0.557093   0.617647   0.186577\n",
       "7  603  72005400300   0.048714   0.051973   0.000000   0.047413\n",
       "8  603  72005400400   0.004894   0.000962   0.000000   0.004533\n",
       "9  603  72005400500   0.034031   0.014437   0.010309   0.032251"
      ]
     },
     "execution_count": 2,
     "metadata": {},
     "output_type": "execute_result"
    }
   ],
   "source": [
    "tract_z.head(10)"
   ]
  },
  {
   "cell_type": "code",
   "execution_count": 9,
   "metadata": {},
   "outputs": [
    {
     "data": {
      "text/plain": [
       "60609    58\n",
       "60647    54\n",
       "60608    52\n",
       "11207    46\n",
       "11234    46\n",
       "         ..\n",
       "12247     1\n",
       "79011     1\n",
       "25201     1\n",
       "82434     1\n",
       "26807     1\n",
       "Name: ZIP, Length: 36102, dtype: int64"
      ]
     },
     "execution_count": 9,
     "metadata": {},
     "output_type": "execute_result"
    }
   ],
   "source": [
    "tract_z.ZIP.value_counts()"
   ]
  },
  {
   "cell_type": "code",
   "execution_count": 8,
   "metadata": {},
   "outputs": [
    {
     "data": {
      "text/plain": [
       "11001006202    46\n",
       "11001005800    20\n",
       "8123002501     19\n",
       "2050000100     18\n",
       "36001001100    16\n",
       "               ..\n",
       "12099005401     1\n",
       "17043842000     1\n",
       "36081017800     1\n",
       "20091051400     1\n",
       "29189218300     1\n",
       "Name: TRACT, Length: 65755, dtype: int64"
      ]
     },
     "execution_count": 8,
     "metadata": {},
     "output_type": "execute_result"
    }
   ],
   "source": [
    "tract_z.TRACT.value_counts()"
   ]
  },
  {
   "cell_type": "code",
   "execution_count": 4,
   "metadata": {},
   "outputs": [
    {
     "data": {
      "text/plain": [
       "ZIP            int64\n",
       "TRACT          int64\n",
       "RES_RATIO    float64\n",
       "BUS_RATIO    float64\n",
       "OTH_RATIO    float64\n",
       "TOT_RATIO    float64\n",
       "dtype: object"
      ]
     },
     "execution_count": 4,
     "metadata": {},
     "output_type": "execute_result"
    }
   ],
   "source": [
    "tract_z.dtypes"
   ]
  },
  {
   "cell_type": "code",
   "execution_count": 5,
   "metadata": {},
   "outputs": [],
   "source": [
    "tract_z['ZIP'] = tract_z.ZIP.astype(str)"
   ]
  },
  {
   "cell_type": "code",
   "execution_count": 6,
   "metadata": {},
   "outputs": [
    {
     "data": {
      "text/plain": [
       "ZIP           object\n",
       "TRACT          int64\n",
       "RES_RATIO    float64\n",
       "BUS_RATIO    float64\n",
       "OTH_RATIO    float64\n",
       "TOT_RATIO    float64\n",
       "dtype: object"
      ]
     },
     "execution_count": 6,
     "metadata": {},
     "output_type": "execute_result"
    }
   ],
   "source": [
    "tract_z.dtypes"
   ]
  },
  {
   "cell_type": "code",
   "execution_count": 16,
   "metadata": {},
   "outputs": [
    {
     "ename": "TypeError",
     "evalue": "invalid entry 0 in condlist: should be boolean ndarray",
     "output_type": "error",
     "traceback": [
      "\u001b[0;31m---------------------------------------------------------------------------\u001b[0m",
      "\u001b[0;31mTypeError\u001b[0m                                 Traceback (most recent call last)",
      "\u001b[0;32m<ipython-input-16-f6654f916e4a>\u001b[0m in \u001b[0;36m<module>\u001b[0;34m\u001b[0m\n\u001b[1;32m     10\u001b[0m \u001b[0;34m\u001b[0m\u001b[0m\n\u001b[1;32m     11\u001b[0m \u001b[0;34m\u001b[0m\u001b[0m\n\u001b[0;32m---> 12\u001b[0;31m \u001b[0mtract_z\u001b[0m\u001b[0;34m[\u001b[0m\u001b[0;34m'ZIP'\u001b[0m\u001b[0;34m]\u001b[0m \u001b[0;34m=\u001b[0m \u001b[0mnp\u001b[0m\u001b[0;34m.\u001b[0m\u001b[0mselect\u001b[0m\u001b[0;34m(\u001b[0m\u001b[0mlst\u001b[0m\u001b[0;34m,\u001b[0m\u001b[0mchoices\u001b[0m\u001b[0;34m)\u001b[0m\u001b[0;34m\u001b[0m\u001b[0;34m\u001b[0m\u001b[0m\n\u001b[0m",
      "\u001b[0;32m<__array_function__ internals>\u001b[0m in \u001b[0;36mselect\u001b[0;34m(*args, **kwargs)\u001b[0m\n",
      "\u001b[0;32m~/anaconda3/lib/python3.8/site-packages/numpy/lib/function_base.py\u001b[0m in \u001b[0;36mselect\u001b[0;34m(condlist, choicelist, default)\u001b[0m\n\u001b[1;32m    702\u001b[0m         \u001b[0mcond\u001b[0m \u001b[0;34m=\u001b[0m \u001b[0mcondlist\u001b[0m\u001b[0;34m[\u001b[0m\u001b[0mi\u001b[0m\u001b[0;34m]\u001b[0m\u001b[0;34m\u001b[0m\u001b[0;34m\u001b[0m\u001b[0m\n\u001b[1;32m    703\u001b[0m         \u001b[0;32mif\u001b[0m \u001b[0mcond\u001b[0m\u001b[0;34m.\u001b[0m\u001b[0mdtype\u001b[0m\u001b[0;34m.\u001b[0m\u001b[0mtype\u001b[0m \u001b[0;32mis\u001b[0m \u001b[0;32mnot\u001b[0m \u001b[0mnp\u001b[0m\u001b[0;34m.\u001b[0m\u001b[0mbool_\u001b[0m\u001b[0;34m:\u001b[0m\u001b[0;34m\u001b[0m\u001b[0;34m\u001b[0m\u001b[0m\n\u001b[0;32m--> 704\u001b[0;31m             raise TypeError(\n\u001b[0m\u001b[1;32m    705\u001b[0m                 'invalid entry {} in condlist: should be boolean ndarray'.format(i))\n\u001b[1;32m    706\u001b[0m \u001b[0;34m\u001b[0m\u001b[0m\n",
      "\u001b[0;31mTypeError\u001b[0m: invalid entry 0 in condlist: should be boolean ndarray"
     ]
    }
   ],
   "source": [
    "lst = [len(tract_z.ZIP ==1),\n",
    "       len(tract_z.ZIP ==2),\n",
    "       len(tract_z.ZIP ==3),\n",
    "        len(tract_z.ZIP ==4)]\n",
    "         \n",
    "choices = ['0000'+ str(tract_z.ZIP),\n",
    "          '000' + str(tract_z.ZIP),\n",
    "          '00'+ str(tract_z.ZIP),\n",
    "          '0'+str(tract_z.ZIP)]\n",
    "\n",
    "\n",
    "tract_z['ZIP'] = np.select(lst,choices)"
   ]
  },
  {
   "cell_type": "code",
   "execution_count": null,
   "metadata": {},
   "outputs": [],
   "source": []
  },
  {
   "cell_type": "code",
   "execution_count": null,
   "metadata": {},
   "outputs": [],
   "source": []
  },
  {
   "cell_type": "code",
   "execution_count": null,
   "metadata": {},
   "outputs": [],
   "source": []
  },
  {
   "cell_type": "code",
   "execution_count": null,
   "metadata": {},
   "outputs": [],
   "source": []
  },
  {
   "cell_type": "code",
   "execution_count": null,
   "metadata": {},
   "outputs": [],
   "source": []
  }
 ],
 "metadata": {
  "kernelspec": {
   "display_name": "Python 3",
   "language": "python",
   "name": "python3"
  },
  "language_info": {
   "codemirror_mode": {
    "name": "ipython",
    "version": 3
   },
   "file_extension": ".py",
   "mimetype": "text/x-python",
   "name": "python",
   "nbconvert_exporter": "python",
   "pygments_lexer": "ipython3",
   "version": "3.8.3"
  }
 },
 "nbformat": 4,
 "nbformat_minor": 4
}
